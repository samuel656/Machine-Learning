{
 "cells": [
  {
   "cell_type": "code",
   "execution_count": 8,
   "id": "a35d3609",
   "metadata": {},
   "outputs": [],
   "source": [
    "#importing libraries\n",
    "import math\n",
    "import numpy as np\n",
    "import pandas as pd"
   ]
  },
  {
   "cell_type": "markdown",
   "id": "2e3306c9",
   "metadata": {},
   "source": [
    "# Mean"
   ]
  },
  {
   "cell_type": "markdown",
   "id": "b8ae83dd",
   "metadata": {},
   "source": [
    "Mean is only the average of all numbers in a particular numeric variable. when data contains outliers then finding mean and using it in any kind of manipulation is not suggested because a single outlier affects mean badly. so its solution is median."
   ]
  },
  {
   "cell_type": "code",
   "execution_count": 22,
   "id": "f5907cab",
   "metadata": {},
   "outputs": [],
   "source": [
    "x = [8.0, 1, 2.5, 4, 28.0]\n",
    "y = [5.0, 2 , 6.0, 7.2, 4.3]"
   ]
  },
  {
   "cell_type": "code",
   "execution_count": 23,
   "id": "80d6d670",
   "metadata": {},
   "outputs": [
    {
     "name": "stdout",
     "output_type": "stream",
     "text": [
      "mean of x\n"
     ]
    },
    {
     "data": {
      "text/plain": [
       "8.7"
      ]
     },
     "execution_count": 23,
     "metadata": {},
     "output_type": "execute_result"
    }
   ],
   "source": [
    "print(\"mean of x\")\n",
    "np.mean(x)"
   ]
  },
  {
   "cell_type": "code",
   "execution_count": 24,
   "id": "f066b075",
   "metadata": {},
   "outputs": [
    {
     "name": "stdout",
     "output_type": "stream",
     "text": [
      "mean of x\n"
     ]
    },
    {
     "data": {
      "text/plain": [
       "4.9"
      ]
     },
     "execution_count": 24,
     "metadata": {},
     "output_type": "execute_result"
    }
   ],
   "source": [
    "print(\"mean of x\")\n",
    "np.mean(y)"
   ]
  },
  {
   "cell_type": "code",
   "execution_count": 25,
   "id": "30770ba5",
   "metadata": {},
   "outputs": [
    {
     "name": "stdout",
     "output_type": "stream",
     "text": [
      "<class 'pandas.core.frame.DataFrame'>\n",
      "RangeIndex: 150 entries, 0 to 149\n",
      "Data columns (total 6 columns):\n",
      " #   Column         Non-Null Count  Dtype  \n",
      "---  ------         --------------  -----  \n",
      " 0   Id             150 non-null    int64  \n",
      " 1   SepalLengthCm  150 non-null    float64\n",
      " 2   SepalWidthCm   150 non-null    float64\n",
      " 3   PetalLengthCm  150 non-null    float64\n",
      " 4   PetalWidthCm   150 non-null    float64\n",
      " 5   Species        150 non-null    object \n",
      "dtypes: float64(4), int64(1), object(1)\n",
      "memory usage: 7.2+ KB\n"
     ]
    }
   ],
   "source": [
    "dataset=pd.read_csv('Iris.csv')\n",
    "dataset.info()"
   ]
  },
  {
   "cell_type": "code",
   "execution_count": 26,
   "id": "a4092208",
   "metadata": {},
   "outputs": [
    {
     "data": {
      "text/plain": [
       "5.843333333333335"
      ]
     },
     "execution_count": 26,
     "metadata": {},
     "output_type": "execute_result"
    }
   ],
   "source": [
    "np.mean(dataset['SepalLengthCm'])"
   ]
  },
  {
   "cell_type": "code",
   "execution_count": 27,
   "id": "aa8a524e",
   "metadata": {},
   "outputs": [
    {
     "data": {
      "text/plain": [
       "3.0540000000000007"
      ]
     },
     "execution_count": 27,
     "metadata": {},
     "output_type": "execute_result"
    }
   ],
   "source": [
    "np.mean(dataset['SepalWidthCm'])"
   ]
  },
  {
   "cell_type": "markdown",
   "id": "0445a353",
   "metadata": {},
   "source": [
    "# Median"
   ]
  },
  {
   "cell_type": "markdown",
   "id": "c9b37d9a",
   "metadata": {},
   "source": [
    "Median is a centre value after sorting all the numbers. if the total number is even then it is the average of centre 2 values. It does not depend on or affected outliers till half of the data does not become outliers."
   ]
  },
  {
   "cell_type": "code",
   "execution_count": 28,
   "id": "f78225fd",
   "metadata": {},
   "outputs": [
    {
     "data": {
      "text/plain": [
       "4.0"
      ]
     },
     "execution_count": 28,
     "metadata": {},
     "output_type": "execute_result"
    }
   ],
   "source": [
    "np.median(x)"
   ]
  },
  {
   "cell_type": "code",
   "execution_count": 29,
   "id": "c23ad4a1",
   "metadata": {},
   "outputs": [
    {
     "data": {
      "text/plain": [
       "5.0"
      ]
     },
     "execution_count": 29,
     "metadata": {},
     "output_type": "execute_result"
    }
   ],
   "source": [
    "np.median(y)"
   ]
  },
  {
   "cell_type": "code",
   "execution_count": 30,
   "id": "e9ebf872",
   "metadata": {},
   "outputs": [
    {
     "data": {
      "text/plain": [
       "3.7586666666666693"
      ]
     },
     "execution_count": 30,
     "metadata": {},
     "output_type": "execute_result"
    }
   ],
   "source": [
    "np.median(dataset['PetalLengthCm'])"
   ]
  },
  {
   "cell_type": "code",
   "execution_count": 31,
   "id": "1aac31b7",
   "metadata": {},
   "outputs": [
    {
     "data": {
      "text/plain": [
       "1.3"
      ]
     },
     "execution_count": 31,
     "metadata": {},
     "output_type": "execute_result"
    }
   ],
   "source": [
    "np.median(dataset['PetalWidthCm'])"
   ]
  },
  {
   "cell_type": "markdown",
   "id": "7155dabe",
   "metadata": {},
   "source": [
    "# Mode"
   ]
  },
  {
   "cell_type": "markdown",
   "id": "03410d69",
   "metadata": {},
   "source": [
    "Mode represents the most frequent observation in a numeric variable. To find mode we do not have a function in Numpy, but we have a function in scipy."
   ]
  },
  {
   "cell_type": "code",
   "execution_count": 34,
   "id": "dcb1d73b",
   "metadata": {},
   "outputs": [
    {
     "name": "stdout",
     "output_type": "stream",
     "text": [
      "ModeResult(mode=array([1.5]), count=array([14]))\n",
      "ModeResult(mode=array([0.2]), count=array([28]))\n",
      "ModeResult(mode=array(['Iris-setosa'], dtype=object), count=array([50]))\n"
     ]
    }
   ],
   "source": [
    "#find mode of petal length of each class\n",
    "from scipy import stats\n",
    "print(stats.mode(dataset['PetalLengthCm']))\n",
    "print(stats.mode(dataset['PetalWidthCm']))\n",
    "print(stats.mode(dataset['Species']))"
   ]
  },
  {
   "cell_type": "markdown",
   "id": "ac0f258e",
   "metadata": {},
   "source": [
    "# Variance"
   ]
  },
  {
   "cell_type": "markdown",
   "id": "328cbc26",
   "metadata": {},
   "source": [
    "Variance measure how far is data point is from the mean, only the difference from MAD and variance is we take square here. The variance is computed by finding the difference between each data point and mean, squaring them, summing them up, and take the average of all those numbers. the numpy has a direct function to calculate variance."
   ]
  },
  {
   "cell_type": "code",
   "execution_count": 41,
   "id": "91395722",
   "metadata": {},
   "outputs": [
    {
     "data": {
      "text/plain": [
       "98.55999999999999"
      ]
     },
     "execution_count": 41,
     "metadata": {},
     "output_type": "execute_result"
    }
   ],
   "source": [
    "np.var(x)"
   ]
  },
  {
   "cell_type": "code",
   "execution_count": 42,
   "id": "b343ded2",
   "metadata": {},
   "outputs": [
    {
     "data": {
      "text/plain": [
       "3.056"
      ]
     },
     "execution_count": 42,
     "metadata": {},
     "output_type": "execute_result"
    }
   ],
   "source": [
    "np.var(y)"
   ]
  },
  {
   "cell_type": "code",
   "execution_count": 35,
   "id": "b7336ed6",
   "metadata": {},
   "outputs": [
    {
     "data": {
      "text/plain": [
       "3.0924248888888854"
      ]
     },
     "execution_count": 35,
     "metadata": {},
     "output_type": "execute_result"
    }
   ],
   "source": [
    "np.var(dataset['PetalLengthCm'])"
   ]
  },
  {
   "cell_type": "code",
   "execution_count": 37,
   "id": "1af1f061",
   "metadata": {},
   "outputs": [
    {
     "data": {
      "text/plain": [
       "0.5785315555555559"
      ]
     },
     "execution_count": 37,
     "metadata": {},
     "output_type": "execute_result"
    }
   ],
   "source": [
    "np.var(dataset['PetalWidthCm'])"
   ]
  },
  {
   "cell_type": "code",
   "execution_count": 39,
   "id": "dce68a89",
   "metadata": {},
   "outputs": [
    {
     "data": {
      "text/plain": [
       "0.6811222222222222"
      ]
     },
     "execution_count": 39,
     "metadata": {},
     "output_type": "execute_result"
    }
   ],
   "source": [
    "np.var(dataset['SepalLengthCm'])"
   ]
  },
  {
   "cell_type": "code",
   "execution_count": 40,
   "id": "68fd3902",
   "metadata": {},
   "outputs": [
    {
     "data": {
      "text/plain": [
       "0.1867506666666667"
      ]
     },
     "execution_count": 40,
     "metadata": {},
     "output_type": "execute_result"
    }
   ],
   "source": [
    "np.var(dataset['SepalWidthCm'])"
   ]
  },
  {
   "cell_type": "markdown",
   "id": "9c968193",
   "metadata": {},
   "source": [
    "# Standard Deviation"
   ]
  },
  {
   "cell_type": "markdown",
   "id": "8fd34b9c",
   "metadata": {},
   "source": [
    "Standard deviation is simply the square root of variance so we get again the value in the same measurement. And we can directly calculate the standard deviation using Numpy."
   ]
  },
  {
   "cell_type": "code",
   "execution_count": 43,
   "id": "c6164b19",
   "metadata": {},
   "outputs": [
    {
     "data": {
      "text/plain": [
       "9.927738916792684"
      ]
     },
     "execution_count": 43,
     "metadata": {},
     "output_type": "execute_result"
    }
   ],
   "source": [
    "np.std(x)"
   ]
  },
  {
   "cell_type": "code",
   "execution_count": 44,
   "id": "7fa0a1be",
   "metadata": {},
   "outputs": [
    {
     "data": {
      "text/plain": [
       "1.7481418706729726"
      ]
     },
     "execution_count": 44,
     "metadata": {},
     "output_type": "execute_result"
    }
   ],
   "source": [
    "np.std(y)"
   ]
  },
  {
   "cell_type": "code",
   "execution_count": 45,
   "id": "28df8d78",
   "metadata": {},
   "outputs": [
    {
     "data": {
      "text/plain": [
       "1.7585291834055201"
      ]
     },
     "execution_count": 45,
     "metadata": {},
     "output_type": "execute_result"
    }
   ],
   "source": [
    "np.std(dataset['PetalLengthCm'])"
   ]
  },
  {
   "cell_type": "code",
   "execution_count": 46,
   "id": "d9cf8976",
   "metadata": {},
   "outputs": [
    {
     "data": {
      "text/plain": [
       "0.760612618588172"
      ]
     },
     "execution_count": 46,
     "metadata": {},
     "output_type": "execute_result"
    }
   ],
   "source": [
    "np.std(dataset['PetalWidthCm'])"
   ]
  }
 ],
 "metadata": {
  "kernelspec": {
   "display_name": "Python 3 (ipykernel)",
   "language": "python",
   "name": "python3"
  },
  "language_info": {
   "codemirror_mode": {
    "name": "ipython",
    "version": 3
   },
   "file_extension": ".py",
   "mimetype": "text/x-python",
   "name": "python",
   "nbconvert_exporter": "python",
   "pygments_lexer": "ipython3",
   "version": "3.9.12"
  }
 },
 "nbformat": 4,
 "nbformat_minor": 5
}
