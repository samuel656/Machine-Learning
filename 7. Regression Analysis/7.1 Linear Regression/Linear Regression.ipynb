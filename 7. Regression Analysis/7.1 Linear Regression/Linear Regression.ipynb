{
 "cells": [
  {
   "cell_type": "markdown",
   "id": "7324bc15",
   "metadata": {},
   "source": [
    "# Linear Regression"
   ]
  },
  {
   "cell_type": "markdown",
   "id": "54151d75",
   "metadata": {},
   "source": [
    "Linear Regression is a machine learning algorithm based on supervised learning.It performs a regression task. \n",
    "Regression models a target prediction value based on independent variables"
   ]
  },
  {
   "cell_type": "code",
   "execution_count": 12,
   "id": "39c19c16",
   "metadata": {},
   "outputs": [
    {
     "name": "stdout",
     "output_type": "stream",
     "text": [
      "    Regd. Num. Quiz 1  Quiz 2\n",
      "0   20761A0565    5.5     6.5\n",
      "1   20761A0566    5.5     7.0\n",
      "2   20761A0567    6.5     5.5\n",
      "3   20761A0568    6.5     6.0\n",
      "4   20761A0569      7     6.5\n",
      "..         ...    ...     ...\n",
      "66  21765A0508      4     4.0\n",
      "67  21765A0509    4.5     4.0\n",
      "68  21765A0510      4     4.0\n",
      "69  21765A0511    6.5     2.5\n",
      "70  21765A0512      5     5.0\n",
      "\n",
      "[71 rows x 3 columns]\n"
     ]
    }
   ],
   "source": [
    "import pandas as pd\n",
    "import numpy as np\n",
    "df=pd.read_csv('Quiz Marks.csv')\n",
    "print(df)"
   ]
  },
  {
   "cell_type": "code",
   "execution_count": 13,
   "id": "226d5c5f",
   "metadata": {},
   "outputs": [],
   "source": [
    "df['Quiz 1']=pd.to_numeric(df['Quiz 1'],errors='coerce')"
   ]
  },
  {
   "cell_type": "code",
   "execution_count": 14,
   "id": "5eb81dc8",
   "metadata": {},
   "outputs": [
    {
     "name": "stdout",
     "output_type": "stream",
     "text": [
      "<class 'pandas.core.frame.DataFrame'>\n",
      "RangeIndex: 71 entries, 0 to 70\n",
      "Data columns (total 3 columns):\n",
      " #   Column      Non-Null Count  Dtype  \n",
      "---  ------      --------------  -----  \n",
      " 0   Regd. Num.  71 non-null     object \n",
      " 1   Quiz 1      70 non-null     float64\n",
      " 2   Quiz 2      71 non-null     float64\n",
      "dtypes: float64(2), object(1)\n",
      "memory usage: 1.8+ KB\n"
     ]
    }
   ],
   "source": [
    "df.info()"
   ]
  },
  {
   "cell_type": "code",
   "execution_count": 15,
   "id": "7ea0ad0d",
   "metadata": {},
   "outputs": [
    {
     "data": {
      "text/plain": [
       "Regd. Num.    0\n",
       "Quiz 1        1\n",
       "Quiz 2        0\n",
       "dtype: int64"
      ]
     },
     "execution_count": 15,
     "metadata": {},
     "output_type": "execute_result"
    }
   ],
   "source": [
    "df.isna().sum()"
   ]
  },
  {
   "cell_type": "code",
   "execution_count": 16,
   "id": "550fb8d8",
   "metadata": {},
   "outputs": [],
   "source": [
    "df['Quiz 1']=df['Quiz 1'].fillna(df['Quiz 1'].mean())\n",
    "x=np.array(df['Quiz 1']).reshape([-1,1])\n",
    "y=np.array(df['Quiz 2'])"
   ]
  },
  {
   "cell_type": "code",
   "execution_count": 17,
   "id": "630377eb",
   "metadata": {},
   "outputs": [
    {
     "data": {
      "text/plain": [
       "Regd. Num.    0\n",
       "Quiz 1        0\n",
       "Quiz 2        0\n",
       "dtype: int64"
      ]
     },
     "execution_count": 17,
     "metadata": {},
     "output_type": "execute_result"
    }
   ],
   "source": [
    "df.isna().sum()"
   ]
  },
  {
   "cell_type": "code",
   "execution_count": 18,
   "id": "69884cb9",
   "metadata": {},
   "outputs": [],
   "source": [
    "from sklearn.linear_model import LinearRegression"
   ]
  },
  {
   "cell_type": "code",
   "execution_count": 19,
   "id": "a39bbe4e",
   "metadata": {},
   "outputs": [
    {
     "name": "stdout",
     "output_type": "stream",
     "text": [
      "score = 0.11410179774327167 \n",
      "\n",
      "intercept= 2.394396937276719 \n",
      "\n",
      "slope= [0.4431535] \n",
      "\n",
      "actual values of y \n",
      " [6.5 7.  5.5 6.  6.5 4.5 7.5 6.  5.  7.  6.5 7.5 7.5 4.  4.5 6.5 6.5 5.5\n",
      " 8.  4.  3.  2.5 7.  5.5 3.5 6.  4.5 5.5 6.5 5.5 3.5 4.5 8.  5.  4.  3.5\n",
      " 3.5 5.5 4.5 4.5 6.5 5.5 6.  7.  6.5 4.5 4.  2.5 4.5 0.  5.5 5.5 7.5 5.5\n",
      " 5.5 5.  3.5 5.  4.5 4.5 7.  7.5 6.5 2.5 5.5 2.5 4.  4.  4.  2.5 5. ] \n",
      "\n",
      "predicted values of y\n",
      "  [4.83174118 4.83174118 5.27489467 5.27489467 5.49647142 4.16701093\n",
      " 5.49647142 5.49647142 4.61016443 5.27489467 5.49647142 5.71804817\n",
      " 4.83174118 5.05331792 4.83174118 5.27489467 5.93962492 4.83174118\n",
      " 5.27489467 5.49647142 4.83174118 3.94543418 5.27489467 5.49647142\n",
      " 4.61016443 5.05331792 5.49647142 6.38277842 5.27489467 5.05331792\n",
      " 4.83174118 5.05331792 5.93962492 4.83174118 5.49647142 5.27489467\n",
      " 5.27489467 5.27489467 5.93962492 5.27489467 4.83174118 5.49647142\n",
      " 5.27489467 5.93962492 6.60435517 5.49647142 5.05331792 5.05331792\n",
      " 5.49647142 5.49647142 5.18309859 6.16120167 5.71804817 5.27489467\n",
      " 5.93962492 4.83174118 5.49647142 5.27489467 5.27489467 4.16701093\n",
      " 5.27489467 4.38858768 5.27489467 4.61016443 5.49647142 4.16701093\n",
      " 4.16701093 4.38858768 4.16701093 5.27489467 4.61016443]\n"
     ]
    }
   ],
   "source": [
    "model=LinearRegression()\n",
    "model.fit(x,y)\n",
    "result=model.score(x,y)\n",
    "print(\"score =\",result,\"\\n\")\n",
    "print(\"intercept=\",model.intercept_,\"\\n\")\n",
    "print(\"slope=\",model.coef_,\"\\n\")\n",
    "print(\"actual values of y \\n\",y,\"\\n\")\n",
    "ypred=model.predict(x)\n",
    "print(\"predicted values of y\\n \",ypred)"
   ]
  },
  {
   "cell_type": "code",
   "execution_count": 20,
   "id": "afb97530",
   "metadata": {},
   "outputs": [
    {
     "data": {
      "text/plain": [
       "[<matplotlib.lines.Line2D at 0x7f25124dba60>]"
      ]
     },
     "execution_count": 20,
     "metadata": {},
     "output_type": "execute_result"
    },
    {
     "data": {
      "image/png": "[encoded data removed]",
      "text/plain": [
       "<Figure size 432x288 with 1 Axes>"
      ]
     },
     "metadata": {
      "needs_background": "light"
     },
     "output_type": "display_data"
    }
   ],
   "source": [
    "import matplotlib.pyplot as plt\n",
    "plt.scatter(x,y,color='black')\n",
    "plt.plot(x,ypred,color='blue',linewidth=2,marker='o',markerfacecolor='red')"
   ]
  },
  {
   "cell_type": "code",
   "execution_count": 22,
   "id": "a77d0b76",
   "metadata": {},
   "outputs": [
    {
     "data": {
      "text/plain": [
       "0.11410179774327167"
      ]
     },
     "execution_count": 22,
     "metadata": {},
     "output_type": "execute_result"
    }
   ],
   "source": [
    "from sklearn.metrics import r2_score\n",
    "r2_score(y,ypred)"
   ]
  }
 ],
 "metadata": {
  "kernelspec": {
   "display_name": "Python 3 (ipykernel)",
   "language": "python",
   "name": "python3"
  },
  "language_info": {
   "codemirror_mode": {
    "name": "ipython",
    "version": 3
   },
   "file_extension": ".py",
   "mimetype": "text/x-python",
   "name": "python",
   "nbconvert_exporter": "python",
   "pygments_lexer": "ipython3",
   "version": "3.9.12"
  }
 },
 "nbformat": 4,
 "nbformat_minor": 5
}
